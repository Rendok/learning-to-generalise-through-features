{
 "cells": [
  {
   "cell_type": "markdown",
   "metadata": {},
   "source": [
    "# Pick Up Operator"
   ]
  },
  {
   "cell_type": "markdown",
   "metadata": {},
   "source": [
    "Robot: [Kuka](reference)"
   ]
  },
  {
   "cell_type": "markdown",
   "metadata": {},
   "source": [
    "## Task Definition\n",
    "\n",
    "### Initial States\n",
    "\n",
    " - Manipulator is fixed\n",
    " - Blocks in random locations on the table\n",
    "\n",
    "### Horizon\n",
    "\n",
    " - 1,000\n",
    " \n",
    "### Reward\n",
    "\n",
    "TBD\n",
    "\n",
    "### Action Space\n",
    "\n",
    "Continuous signals:\n",
    " - XYZ offset\n",
    " - Vertical angle offset (roll angle of manipulator)\n",
    " - Grasping angle (angle of pincers/fingers)\n",
    " \n",
    "### Learning Algorithm\n",
    "\n",
    "TBD\n"
   ]
  },
  {
   "cell_type": "markdown",
   "metadata": {},
   "source": [
    "## Demonstration"
   ]
  },
  {
   "cell_type": "code",
   "execution_count": null,
   "metadata": {
    "collapsed": true
   },
   "outputs": [],
   "source": []
  }
 ],
 "metadata": {
  "kernelspec": {
   "display_name": "Python 3",
   "language": "python",
   "name": "python3"
  },
  "language_info": {
   "codemirror_mode": {
    "name": "ipython",
    "version": 3
   },
   "file_extension": ".py",
   "mimetype": "text/x-python",
   "name": "python",
   "nbconvert_exporter": "python",
   "pygments_lexer": "ipython3",
   "version": "3.5.2"
  }
 },
 "nbformat": 4,
 "nbformat_minor": 2
}
