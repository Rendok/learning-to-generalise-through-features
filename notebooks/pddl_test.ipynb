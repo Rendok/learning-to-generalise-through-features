{
 "cells": [
  {
   "cell_type": "markdown",
   "metadata": {
    "collapsed": true
   },
   "source": [
    "One block:\n",
    "\n",
    "Solved: True\n",
    "\n",
    "Cost: 6\n",
    "\n",
    "Length: 6\n",
    "\n",
    "Evaluations: 24\n",
    "\n",
    "1) move_free q256 q960 c24\n",
    "\n",
    "2) pick 3 p312 g640 q960 c176\n",
    "\n",
    "3) move_holding q960 q136 3 g640 c160\n",
    "\n",
    "4) place 3 p192 g640 q136 c864\n",
    "\n",
    "5) move_free q136 q256 c512\n",
    "\n",
    "6) clean 3 2\n",
    "\n",
    "         171843 function calls (166084 primitive calls) in 0.751 seconds"
   ]
  },
  {
   "cell_type": "markdown",
   "metadata": {},
   "source": []
  }
 ],
 "metadata": {
  "kernelspec": {
   "display_name": "Python 2",
   "language": "python",
   "name": "python2"
  },
  "language_info": {
   "codemirror_mode": {
    "name": "ipython",
    "version": 3
   },
   "file_extension": ".py",
   "mimetype": "text/x-python",
   "name": "python",
   "nbconvert_exporter": "python",
   "pygments_lexer": "ipython3",
   "version": "3.6.5"
  }
 },
 "nbformat": 4,
 "nbformat_minor": 1
}
